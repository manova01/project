{
 "cells": [
  {
   "cell_type": "code",
   "execution_count": 3,
   "id": "dbaca30f-64a1-4ff4-88db-750f54c926ea",
   "metadata": {},
   "outputs": [
    {
     "data": {
      "application/javascript": [
       "IPython.notebook.set_autosave_interval(0)"
      ]
     },
     "metadata": {},
     "output_type": "display_data"
    },
    {
     "name": "stdout",
     "output_type": "stream",
     "text": [
      "Autosave disabled\n"
     ]
    }
   ],
   "source": [
    "%autosave 0"
   ]
  },
  {
   "cell_type": "code",
   "execution_count": 4,
   "id": "ab42cf6c-f1b3-4799-9094-7b82aec71293",
   "metadata": {},
   "outputs": [],
   "source": [
    "import requests"
   ]
  },
  {
   "cell_type": "code",
   "execution_count": 5,
   "id": "baa4c9f8-c2fe-4465-baa7-9e68b88d2884",
   "metadata": {},
   "outputs": [],
   "source": [
    "url = 'http://localhost:9696/predict'"
   ]
  },
  {
   "cell_type": "code",
   "execution_count": 6,
   "id": "f2127926-0fb0-4978-8024-07ffae2d7e04",
   "metadata": {},
   "outputs": [],
   "source": [
    "customer={'id': 45701,\n",
    " 'gender': 'female',\n",
    " 'age': 72.0,\n",
    " 'hypertension': 0,\n",
    " 'heart_disease': 1,\n",
    " 'ever_married': 'no',\n",
    " 'work_type': 'self-employed',\n",
    " 'Residence_type': 'rural',\n",
    " 'avg_glucose_level': 124.38,\n",
    " 'bmi': 23.4,\n",
    " 'smoking_status': 'formerly_smoked'}"
   ]
  },
  {
   "cell_type": "code",
   "execution_count": 7,
   "id": "45e200d7-04ad-4ffe-8e9d-2bb13e7b1eb3",
   "metadata": {},
   "outputs": [
    {
     "data": {
      "text/plain": [
       "{'id': 45701,\n",
       " 'gender': 'female',\n",
       " 'age': 72.0,\n",
       " 'hypertension': 0,\n",
       " 'heart_disease': 1,\n",
       " 'ever_married': 'no',\n",
       " 'work_type': 'self-employed',\n",
       " 'Residence_type': 'rural',\n",
       " 'avg_glucose_level': 124.38,\n",
       " 'bmi': 23.4,\n",
       " 'smoking_status': 'formerly_smoked'}"
      ]
     },
     "execution_count": 7,
     "metadata": {},
     "output_type": "execute_result"
    }
   ],
   "source": [
    "customer"
   ]
  },
  {
   "cell_type": "code",
   "execution_count": null,
   "id": "0d9cbd7a-a0ee-4cd5-ab47-e5550882cc1e",
   "metadata": {},
   "outputs": [],
   "source": [
    "requests.post(url, json=customer).json()"
   ]
  }
 ],
 "metadata": {
  "kernelspec": {
   "display_name": "Python 3 (ipykernel)",
   "language": "python",
   "name": "python3"
  },
  "language_info": {
   "codemirror_mode": {
    "name": "ipython",
    "version": 3
   },
   "file_extension": ".py",
   "mimetype": "text/x-python",
   "name": "python",
   "nbconvert_exporter": "python",
   "pygments_lexer": "ipython3",
   "version": "3.12.1"
  }
 },
 "nbformat": 4,
 "nbformat_minor": 5
}
