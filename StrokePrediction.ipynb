{
 "cells": [
  {
   "cell_type": "code",
   "execution_count": 1,
   "id": "7bde753f-df9b-4f65-8f45-b9a2d848de9a",
   "metadata": {},
   "outputs": [],
   "source": [
    "import pandas as pd\n",
    "import numpy as np\n",
    "import matplotlib.pyplot as plt\n",
    "import seaborn as sns"
   ]
  },
  {
   "cell_type": "code",
   "execution_count": 2,
   "id": "b8f3c670-1255-45a5-b643-a37be55c0fbd",
   "metadata": {},
   "outputs": [],
   "source": [
    "df =pd.read_csv('healthcare-dataset-stroke-data.csv')"
   ]
  },
  {
   "cell_type": "code",
   "execution_count": 3,
   "id": "c0b8b7aa-30be-4c7b-9807-eec52cc391e9",
   "metadata": {},
   "outputs": [
    {
     "data": {
      "text/html": [
       "<div>\n",
       "<style scoped>\n",
       "    .dataframe tbody tr th:only-of-type {\n",
       "        vertical-align: middle;\n",
       "    }\n",
       "\n",
       "    .dataframe tbody tr th {\n",
       "        vertical-align: top;\n",
       "    }\n",
       "\n",
       "    .dataframe thead th {\n",
       "        text-align: right;\n",
       "    }\n",
       "</style>\n",
       "<table border=\"1\" class=\"dataframe\">\n",
       "  <thead>\n",
       "    <tr style=\"text-align: right;\">\n",
       "      <th></th>\n",
       "      <th>id</th>\n",
       "      <th>gender</th>\n",
       "      <th>age</th>\n",
       "      <th>hypertension</th>\n",
       "      <th>heart_disease</th>\n",
       "      <th>ever_married</th>\n",
       "      <th>work_type</th>\n",
       "      <th>Residence_type</th>\n",
       "      <th>avg_glucose_level</th>\n",
       "      <th>bmi</th>\n",
       "      <th>smoking_status</th>\n",
       "      <th>stroke</th>\n",
       "    </tr>\n",
       "  </thead>\n",
       "  <tbody>\n",
       "    <tr>\n",
       "      <th>0</th>\n",
       "      <td>9046</td>\n",
       "      <td>Male</td>\n",
       "      <td>67.0</td>\n",
       "      <td>0</td>\n",
       "      <td>1</td>\n",
       "      <td>Yes</td>\n",
       "      <td>Private</td>\n",
       "      <td>Urban</td>\n",
       "      <td>228.69</td>\n",
       "      <td>36.6</td>\n",
       "      <td>formerly smoked</td>\n",
       "      <td>1</td>\n",
       "    </tr>\n",
       "    <tr>\n",
       "      <th>1</th>\n",
       "      <td>51676</td>\n",
       "      <td>Female</td>\n",
       "      <td>61.0</td>\n",
       "      <td>0</td>\n",
       "      <td>0</td>\n",
       "      <td>Yes</td>\n",
       "      <td>Self-employed</td>\n",
       "      <td>Rural</td>\n",
       "      <td>202.21</td>\n",
       "      <td>NaN</td>\n",
       "      <td>never smoked</td>\n",
       "      <td>1</td>\n",
       "    </tr>\n",
       "    <tr>\n",
       "      <th>2</th>\n",
       "      <td>31112</td>\n",
       "      <td>Male</td>\n",
       "      <td>80.0</td>\n",
       "      <td>0</td>\n",
       "      <td>1</td>\n",
       "      <td>Yes</td>\n",
       "      <td>Private</td>\n",
       "      <td>Rural</td>\n",
       "      <td>105.92</td>\n",
       "      <td>32.5</td>\n",
       "      <td>never smoked</td>\n",
       "      <td>1</td>\n",
       "    </tr>\n",
       "    <tr>\n",
       "      <th>3</th>\n",
       "      <td>60182</td>\n",
       "      <td>Female</td>\n",
       "      <td>49.0</td>\n",
       "      <td>0</td>\n",
       "      <td>0</td>\n",
       "      <td>Yes</td>\n",
       "      <td>Private</td>\n",
       "      <td>Urban</td>\n",
       "      <td>171.23</td>\n",
       "      <td>34.4</td>\n",
       "      <td>smokes</td>\n",
       "      <td>1</td>\n",
       "    </tr>\n",
       "    <tr>\n",
       "      <th>4</th>\n",
       "      <td>1665</td>\n",
       "      <td>Female</td>\n",
       "      <td>79.0</td>\n",
       "      <td>1</td>\n",
       "      <td>0</td>\n",
       "      <td>Yes</td>\n",
       "      <td>Self-employed</td>\n",
       "      <td>Rural</td>\n",
       "      <td>174.12</td>\n",
       "      <td>24.0</td>\n",
       "      <td>never smoked</td>\n",
       "      <td>1</td>\n",
       "    </tr>\n",
       "  </tbody>\n",
       "</table>\n",
       "</div>"
      ],
      "text/plain": [
       "      id  gender   age  hypertension  heart_disease ever_married  \\\n",
       "0   9046    Male  67.0             0              1          Yes   \n",
       "1  51676  Female  61.0             0              0          Yes   \n",
       "2  31112    Male  80.0             0              1          Yes   \n",
       "3  60182  Female  49.0             0              0          Yes   \n",
       "4   1665  Female  79.0             1              0          Yes   \n",
       "\n",
       "       work_type Residence_type  avg_glucose_level   bmi   smoking_status  \\\n",
       "0        Private          Urban             228.69  36.6  formerly smoked   \n",
       "1  Self-employed          Rural             202.21   NaN     never smoked   \n",
       "2        Private          Rural             105.92  32.5     never smoked   \n",
       "3        Private          Urban             171.23  34.4           smokes   \n",
       "4  Self-employed          Rural             174.12  24.0     never smoked   \n",
       "\n",
       "   stroke  \n",
       "0       1  \n",
       "1       1  \n",
       "2       1  \n",
       "3       1  \n",
       "4       1  "
      ]
     },
     "execution_count": 3,
     "metadata": {},
     "output_type": "execute_result"
    }
   ],
   "source": [
    "df.head()"
   ]
  },
  {
   "cell_type": "markdown",
   "id": "8ca89311-bccc-4b82-9d19-d7ff1eef387f",
   "metadata": {},
   "source": [
    "# Data Cleaning"
   ]
  },
  {
   "cell_type": "code",
   "execution_count": 4,
   "id": "c084d180-0c32-4cec-ba77-bf5765bc55fb",
   "metadata": {},
   "outputs": [
    {
     "data": {
      "text/plain": [
       "id                     int64\n",
       "gender                object\n",
       "age                  float64\n",
       "hypertension           int64\n",
       "heart_disease          int64\n",
       "ever_married          object\n",
       "work_type             object\n",
       "Residence_type        object\n",
       "avg_glucose_level    float64\n",
       "bmi                  float64\n",
       "smoking_status        object\n",
       "stroke                 int64\n",
       "dtype: object"
      ]
     },
     "execution_count": 4,
     "metadata": {},
     "output_type": "execute_result"
    }
   ],
   "source": [
    "df.dtypes"
   ]
  },
  {
   "cell_type": "code",
   "execution_count": 5,
   "id": "f98dd496-a92d-48bc-ae93-fbfc4b8b9a4e",
   "metadata": {},
   "outputs": [
    {
     "data": {
      "text/plain": [
       "['gender', 'ever_married', 'work_type', 'Residence_type', 'smoking_status']"
      ]
     },
     "execution_count": 5,
     "metadata": {},
     "output_type": "execute_result"
    }
   ],
   "source": [
    "strings = list(df.dtypes[df.dtypes=='object'].index)\n",
    "strings"
   ]
  },
  {
   "cell_type": "code",
   "execution_count": 6,
   "id": "c9bc5853-24ab-4125-8d70-74e464a85dc6",
   "metadata": {},
   "outputs": [],
   "source": [
    "for col in strings:\n",
    "    df[col] = df[col].str.lower().str.replace(' ' ,'_')"
   ]
  },
  {
   "cell_type": "code",
   "execution_count": 7,
   "id": "eb4c60d1-c8fc-4a0b-ba6f-1638ac4b3c8d",
   "metadata": {},
   "outputs": [
    {
     "data": {
      "text/html": [
       "<div>\n",
       "<style scoped>\n",
       "    .dataframe tbody tr th:only-of-type {\n",
       "        vertical-align: middle;\n",
       "    }\n",
       "\n",
       "    .dataframe tbody tr th {\n",
       "        vertical-align: top;\n",
       "    }\n",
       "\n",
       "    .dataframe thead th {\n",
       "        text-align: right;\n",
       "    }\n",
       "</style>\n",
       "<table border=\"1\" class=\"dataframe\">\n",
       "  <thead>\n",
       "    <tr style=\"text-align: right;\">\n",
       "      <th></th>\n",
       "      <th>id</th>\n",
       "      <th>gender</th>\n",
       "      <th>age</th>\n",
       "      <th>hypertension</th>\n",
       "      <th>heart_disease</th>\n",
       "      <th>ever_married</th>\n",
       "      <th>work_type</th>\n",
       "      <th>Residence_type</th>\n",
       "      <th>avg_glucose_level</th>\n",
       "      <th>bmi</th>\n",
       "      <th>smoking_status</th>\n",
       "      <th>stroke</th>\n",
       "    </tr>\n",
       "  </thead>\n",
       "  <tbody>\n",
       "    <tr>\n",
       "      <th>0</th>\n",
       "      <td>9046</td>\n",
       "      <td>male</td>\n",
       "      <td>67.0</td>\n",
       "      <td>0</td>\n",
       "      <td>1</td>\n",
       "      <td>yes</td>\n",
       "      <td>private</td>\n",
       "      <td>urban</td>\n",
       "      <td>228.69</td>\n",
       "      <td>36.6</td>\n",
       "      <td>formerly_smoked</td>\n",
       "      <td>1</td>\n",
       "    </tr>\n",
       "    <tr>\n",
       "      <th>1</th>\n",
       "      <td>51676</td>\n",
       "      <td>female</td>\n",
       "      <td>61.0</td>\n",
       "      <td>0</td>\n",
       "      <td>0</td>\n",
       "      <td>yes</td>\n",
       "      <td>self-employed</td>\n",
       "      <td>rural</td>\n",
       "      <td>202.21</td>\n",
       "      <td>NaN</td>\n",
       "      <td>never_smoked</td>\n",
       "      <td>1</td>\n",
       "    </tr>\n",
       "    <tr>\n",
       "      <th>2</th>\n",
       "      <td>31112</td>\n",
       "      <td>male</td>\n",
       "      <td>80.0</td>\n",
       "      <td>0</td>\n",
       "      <td>1</td>\n",
       "      <td>yes</td>\n",
       "      <td>private</td>\n",
       "      <td>rural</td>\n",
       "      <td>105.92</td>\n",
       "      <td>32.5</td>\n",
       "      <td>never_smoked</td>\n",
       "      <td>1</td>\n",
       "    </tr>\n",
       "    <tr>\n",
       "      <th>3</th>\n",
       "      <td>60182</td>\n",
       "      <td>female</td>\n",
       "      <td>49.0</td>\n",
       "      <td>0</td>\n",
       "      <td>0</td>\n",
       "      <td>yes</td>\n",
       "      <td>private</td>\n",
       "      <td>urban</td>\n",
       "      <td>171.23</td>\n",
       "      <td>34.4</td>\n",
       "      <td>smokes</td>\n",
       "      <td>1</td>\n",
       "    </tr>\n",
       "    <tr>\n",
       "      <th>4</th>\n",
       "      <td>1665</td>\n",
       "      <td>female</td>\n",
       "      <td>79.0</td>\n",
       "      <td>1</td>\n",
       "      <td>0</td>\n",
       "      <td>yes</td>\n",
       "      <td>self-employed</td>\n",
       "      <td>rural</td>\n",
       "      <td>174.12</td>\n",
       "      <td>24.0</td>\n",
       "      <td>never_smoked</td>\n",
       "      <td>1</td>\n",
       "    </tr>\n",
       "  </tbody>\n",
       "</table>\n",
       "</div>"
      ],
      "text/plain": [
       "      id  gender   age  hypertension  heart_disease ever_married  \\\n",
       "0   9046    male  67.0             0              1          yes   \n",
       "1  51676  female  61.0             0              0          yes   \n",
       "2  31112    male  80.0             0              1          yes   \n",
       "3  60182  female  49.0             0              0          yes   \n",
       "4   1665  female  79.0             1              0          yes   \n",
       "\n",
       "       work_type Residence_type  avg_glucose_level   bmi   smoking_status  \\\n",
       "0        private          urban             228.69  36.6  formerly_smoked   \n",
       "1  self-employed          rural             202.21   NaN     never_smoked   \n",
       "2        private          rural             105.92  32.5     never_smoked   \n",
       "3        private          urban             171.23  34.4           smokes   \n",
       "4  self-employed          rural             174.12  24.0     never_smoked   \n",
       "\n",
       "   stroke  \n",
       "0       1  \n",
       "1       1  \n",
       "2       1  \n",
       "3       1  \n",
       "4       1  "
      ]
     },
     "execution_count": 7,
     "metadata": {},
     "output_type": "execute_result"
    }
   ],
   "source": [
    "df.head()"
   ]
  },
  {
   "cell_type": "code",
   "execution_count": 8,
   "id": "54742163-b591-4b80-9cd8-27d6469e2660",
   "metadata": {},
   "outputs": [
    {
     "name": "stdout",
     "output_type": "stream",
     "text": [
      "id\n",
      "[ 9046 51676 31112 60182  1665]\n",
      "5110\n",
      "\n",
      "gender\n",
      "['male' 'female' 'other']\n",
      "3\n",
      "\n",
      "age\n",
      "[67. 61. 80. 49. 79.]\n",
      "104\n",
      "\n",
      "hypertension\n",
      "[0 1]\n",
      "2\n",
      "\n",
      "heart_disease\n",
      "[1 0]\n",
      "2\n",
      "\n",
      "ever_married\n",
      "['yes' 'no']\n",
      "2\n",
      "\n",
      "work_type\n",
      "['private' 'self-employed' 'govt_job' 'children' 'never_worked']\n",
      "5\n",
      "\n",
      "Residence_type\n",
      "['urban' 'rural']\n",
      "2\n",
      "\n",
      "avg_glucose_level\n",
      "[228.69 202.21 105.92 171.23 174.12]\n",
      "3979\n",
      "\n",
      "bmi\n",
      "[36.6  nan 32.5 34.4 24. ]\n",
      "418\n",
      "\n",
      "smoking_status\n",
      "['formerly_smoked' 'never_smoked' 'smokes' 'unknown']\n",
      "4\n",
      "\n",
      "stroke\n",
      "[1 0]\n",
      "2\n",
      "\n"
     ]
    }
   ],
   "source": [
    "for col in df.columns:\n",
    "    print(col)\n",
    "    print(df[col].unique()[:5])\n",
    "    print(df[col].nunique())\n",
    "    print()"
   ]
  },
  {
   "cell_type": "code",
   "execution_count": 9,
   "id": "0f1de9a9-69ab-4035-87cf-c3ba790dccc2",
   "metadata": {},
   "outputs": [
    {
     "data": {
      "text/plain": [
       "id                     0\n",
       "gender                 0\n",
       "age                    0\n",
       "hypertension           0\n",
       "heart_disease          0\n",
       "ever_married           0\n",
       "work_type              0\n",
       "Residence_type         0\n",
       "avg_glucose_level      0\n",
       "bmi                  201\n",
       "smoking_status         0\n",
       "stroke                 0\n",
       "dtype: int64"
      ]
     },
     "execution_count": 9,
     "metadata": {},
     "output_type": "execute_result"
    }
   ],
   "source": [
    "# Check missing values\n",
    "df.isnull().sum()"
   ]
  },
  {
   "cell_type": "code",
   "execution_count": 10,
   "id": "8caa5e84-dd0b-43d3-9d3c-9c9efd6e9520",
   "metadata": {},
   "outputs": [],
   "source": [
    "# replace missing values with zero\n",
    "df.fillna(0,inplace=True)"
   ]
  },
  {
   "cell_type": "code",
   "execution_count": 11,
   "id": "68138c29-d12c-45c1-854e-95fb0d7288f3",
   "metadata": {},
   "outputs": [
    {
     "data": {
      "text/plain": [
       "id                   0\n",
       "gender               0\n",
       "age                  0\n",
       "hypertension         0\n",
       "heart_disease        0\n",
       "ever_married         0\n",
       "work_type            0\n",
       "Residence_type       0\n",
       "avg_glucose_level    0\n",
       "bmi                  0\n",
       "smoking_status       0\n",
       "stroke               0\n",
       "dtype: int64"
      ]
     },
     "execution_count": 11,
     "metadata": {},
     "output_type": "execute_result"
    }
   ],
   "source": [
    "df.isnull().sum()"
   ]
  },
  {
   "cell_type": "code",
   "execution_count": 12,
   "id": "529c61e7-f130-4ddf-a168-2a7f14d3affb",
   "metadata": {},
   "outputs": [
    {
     "data": {
      "text/plain": [
       "gender\n",
       "female    2994\n",
       "male      2115\n",
       "other        1\n",
       "Name: count, dtype: int64"
      ]
     },
     "execution_count": 12,
     "metadata": {},
     "output_type": "execute_result"
    }
   ],
   "source": [
    "df.gender.value_counts()"
   ]
  },
  {
   "cell_type": "code",
   "execution_count": 13,
   "id": "06834a2f-bd01-480b-8448-4dce681d4caa",
   "metadata": {},
   "outputs": [],
   "source": [
    "# Deleting rows where where gender column equals 'other'\n",
    "df = df[df['gender'] != 'other']"
   ]
  },
  {
   "cell_type": "code",
   "execution_count": 14,
   "id": "9c399143-33bf-42ac-8a83-69581960fd18",
   "metadata": {},
   "outputs": [
    {
     "data": {
      "text/plain": [
       "gender\n",
       "female    2994\n",
       "male      2115\n",
       "Name: count, dtype: int64"
      ]
     },
     "execution_count": 14,
     "metadata": {},
     "output_type": "execute_result"
    }
   ],
   "source": [
    "df.gender.value_counts()"
   ]
  },
  {
   "cell_type": "code",
   "execution_count": 15,
   "id": "7029349c-b7cd-4fde-9b68-2341cd0f9e13",
   "metadata": {},
   "outputs": [],
   "source": [
    "numerical_features = df[['bmi', 'age', 'hypertension', 'heart_disease', 'avg_glucose_level', 'stroke']]"
   ]
  },
  {
   "cell_type": "code",
   "execution_count": 16,
   "id": "303b0e13-bdf4-4422-ab98-d77c0c1cb6db",
   "metadata": {},
   "outputs": [],
   "source": [
    "corrolation_matrix=numerical_features.corr()"
   ]
  },
  {
   "cell_type": "code",
   "execution_count": 17,
   "id": "8c88d42b-1254-4aca-b573-4df1329ff4f5",
   "metadata": {},
   "outputs": [
    {
     "name": "stdout",
     "output_type": "stream",
     "text": [
      "age           hypertension    0.276367\n",
      "hypertension  age             0.276367\n",
      "dtype: float64\n"
     ]
    }
   ],
   "source": [
    "max_corr = corrolation_matrix.abs().unstack().sort_values(ascending=False)\n",
    "top_corr = max_corr[max_corr <1].head(2)\n",
    "\n",
    "print(top_corr)"
   ]
  },
  {
   "cell_type": "code",
   "execution_count": 18,
   "id": "65b21606-5304-4c1d-b4b4-07d642cdae12",
   "metadata": {},
   "outputs": [
    {
     "data": {
      "text/plain": [
       "<Axes: xlabel='count', ylabel='age'>"
      ]
     },
     "execution_count": 18,
     "metadata": {},
     "output_type": "execute_result"
    },
    {
     "data": {
      "image/png": "[encoded data removed]",
      "text/plain": [
       "<Figure size 640x480 with 1 Axes>"
      ]
     },
     "metadata": {},
     "output_type": "display_data"
    }
   ],
   "source": [
    "# plot between mode_of_shipment and reached_on_time_y_n\n",
    "sns.countplot(y=df['age'], hue=df['hypertension'])\n",
    "\n"
   ]
  },
  {
   "cell_type": "markdown",
   "id": "9833842f-c2c2-4009-8af2-a1460b6aaa12",
   "metadata": {},
   "source": [
    "# Setting Up Validation Frame Work"
   ]
  },
  {
   "cell_type": "code",
   "execution_count": 18,
   "id": "17d1f3b1-de24-4c8b-9798-a0425cb6fcda",
   "metadata": {},
   "outputs": [],
   "source": [
    "# Perform train/validation/test using sklearn\n",
    "from sklearn.model_selection import train_test_split"
   ]
  },
  {
   "cell_type": "code",
   "execution_count": 19,
   "id": "394a2218-d687-4b7b-a691-ad5b9c99d991",
   "metadata": {},
   "outputs": [],
   "source": [
    "# Divide the data into train,validation,test\n",
    "df_full_train, df_test = train_test_split(df, test_size = 0.2, random_state=42)"
   ]
  },
  {
   "cell_type": "code",
   "execution_count": 20,
   "id": "f0557d4f-4236-4aeb-9be5-756cedbde428",
   "metadata": {},
   "outputs": [
    {
     "data": {
      "text/plain": [
       "(4087, 1022)"
      ]
     },
     "execution_count": 20,
     "metadata": {},
     "output_type": "execute_result"
    }
   ],
   "source": [
    "len(df_full_train), len(df_test)"
   ]
  },
  {
   "cell_type": "code",
   "execution_count": 21,
   "id": "af3c1a8d-9ee7-4af4-9dbf-1062898b2409",
   "metadata": {},
   "outputs": [],
   "source": [
    "df_train, df_val = train_test_split(df_full_train, test_size = 0.25, random_state=42)"
   ]
  },
  {
   "cell_type": "code",
   "execution_count": 22,
   "id": "c8780bd5-8263-4fe5-9c62-ff22df4e45fd",
   "metadata": {},
   "outputs": [
    {
     "data": {
      "text/plain": [
       "(3065, 1022, 1022)"
      ]
     },
     "execution_count": 22,
     "metadata": {},
     "output_type": "execute_result"
    }
   ],
   "source": [
    "len(df_train), len(df_val), len(df_test)"
   ]
  },
  {
   "cell_type": "code",
   "execution_count": 23,
   "id": "f8d1a7de-00d5-4403-a165-903f807ea1c5",
   "metadata": {},
   "outputs": [],
   "source": [
    "df_train = df_train.reset_index(drop=True)\n",
    "df_val = df_val.reset_index(drop=True)\n",
    "df_test = df_test.reset_index(drop=True)"
   ]
  },
  {
   "cell_type": "code",
   "execution_count": 24,
   "id": "e1dcc81d-155e-48c6-93d4-9c521b220a50",
   "metadata": {},
   "outputs": [],
   "source": [
    "y_train = df_train.stroke.values\n",
    "y_val = df_val.stroke.values\n",
    "y_test = df_test.stroke.values"
   ]
  },
  {
   "cell_type": "code",
   "execution_count": 25,
   "id": "440ee8cf-2731-4302-bef4-32a9b02a3387",
   "metadata": {},
   "outputs": [],
   "source": [
    "del df_train['stroke']\n",
    "del df_val['stroke']\n",
    "del df_test['stroke']"
   ]
  },
  {
   "cell_type": "markdown",
   "id": "62bf14ee-deb0-4241-883c-2075851b09e3",
   "metadata": {},
   "source": [
    "# Data Analysis\n"
   ]
  },
  {
   "cell_type": "code",
   "execution_count": 26,
   "id": "e2392cc2-a540-478c-ba18-a93a77d1fa1e",
   "metadata": {},
   "outputs": [],
   "source": [
    "df_full_train = df_full_train.reset_index(drop=True)"
   ]
  },
  {
   "cell_type": "code",
   "execution_count": 27,
   "id": "f08179de-8ab0-4b8b-83dd-d72e65508384",
   "metadata": {},
   "outputs": [
    {
     "data": {
      "text/plain": [
       "stroke\n",
       "0    0.954245\n",
       "1    0.045755\n",
       "Name: proportion, dtype: float64"
      ]
     },
     "execution_count": 27,
     "metadata": {},
     "output_type": "execute_result"
    }
   ],
   "source": [
    "# calculate the stroke rate\n",
    "df_full_train.stroke.value_counts(normalize = True)"
   ]
  },
  {
   "cell_type": "code",
   "execution_count": 28,
   "id": "257e68a1-ee39-48e9-beb3-56dc68916188",
   "metadata": {},
   "outputs": [
    {
     "data": {
      "text/plain": [
       "0.05"
      ]
     },
     "execution_count": 28,
     "metadata": {},
     "output_type": "execute_result"
    }
   ],
   "source": [
    "global_stroke_rate= df_full_train.stroke.mean()\n",
    "round(global_stroke_rate, 2)"
   ]
  },
  {
   "cell_type": "code",
   "execution_count": 38,
   "id": "0b543572-1795-4d37-919a-b000776ff82d",
   "metadata": {},
   "outputs": [],
   "source": [
    "categorical_features=['smoking_status', 'Residence_type', 'ever_married', 'gender']"
   ]
  },
  {
   "cell_type": "markdown",
   "id": "7c7a6db9-350d-40b4-9e1d-4807ba6f1183",
   "metadata": {},
   "source": [
    "# Mutual Information"
   ]
  },
  {
   "cell_type": "code",
   "execution_count": 29,
   "id": "cb2d115c-b158-4e27-a16f-925f67db998f",
   "metadata": {},
   "outputs": [],
   "source": [
    "# mutual information : concept from information theory that tells how much we can learn about value\n",
    "from sklearn.metrics import mutual_info_score"
   ]
  },
  {
   "cell_type": "code",
   "execution_count": 30,
   "id": "02391458-f8f4-43a8-8c72-5dcfc28371f3",
   "metadata": {},
   "outputs": [
    {
     "name": "stderr",
     "output_type": "stream",
     "text": [
      "C:\\Users\\USER\\AppData\\Local\\Programs\\Python\\Python312\\Lib\\site-packages\\sklearn\\metrics\\cluster\\_supervised.py:66: UserWarning: Clustering metrics expects discrete values but received binary values for label, and continuous values for target\n",
      "  warnings.warn(msg, UserWarning)\n"
     ]
    },
    {
     "data": {
      "text/plain": [
       "0.04318865457196639"
      ]
     },
     "execution_count": 30,
     "metadata": {},
     "output_type": "execute_result"
    }
   ],
   "source": [
    "mutual_info_score(df_full_train.stroke, df_full_train.age)"
   ]
  },
  {
   "cell_type": "code",
   "execution_count": 31,
   "id": "eeafd951-22ff-42df-b282-384eb5b283ad",
   "metadata": {},
   "outputs": [
    {
     "data": {
      "text/plain": [
       "2.5293469424911286e-05"
      ]
     },
     "execution_count": 31,
     "metadata": {},
     "output_type": "execute_result"
    }
   ],
   "source": [
    "mutual_info_score(df_full_train.stroke, df_full_train.gender)"
   ]
  },
  {
   "cell_type": "code",
   "execution_count": 32,
   "id": "d3887d3d-2eda-4e4a-8880-9a1dec1c58d7",
   "metadata": {},
   "outputs": [],
   "source": [
    "# apply mutual information to the wholle data\n",
    "def mutual_info_stroke_score(series):\n",
    "    return mutual_info_score(series, df_full_train.stroke)"
   ]
  },
  {
   "cell_type": "code",
   "execution_count": 39,
   "id": "fdc953ca-e152-4f65-b183-7c729e8e216a",
   "metadata": {},
   "outputs": [],
   "source": [
    "mi = df_full_train[categorical_features].apply(mutual_info_stroke_score)"
   ]
  },
  {
   "cell_type": "code",
   "execution_count": 40,
   "id": "81fb2bcd-687c-4ed5-a4c9-42cae38783c7",
   "metadata": {},
   "outputs": [
    {
     "data": {
      "text/plain": [
       "ever_married      0.005587\n",
       "smoking_status    0.002223\n",
       "Residence_type    0.000128\n",
       "gender            0.000025\n",
       "dtype: float64"
      ]
     },
     "execution_count": 40,
     "metadata": {},
     "output_type": "execute_result"
    }
   ],
   "source": [
    "mi.sort_values(ascending=False)"
   ]
  },
  {
   "cell_type": "markdown",
   "id": "d18b4519-a50a-4072-9543-20930aa84a9c",
   "metadata": {},
   "source": [
    "# One Hot Encoding"
   ]
  },
  {
   "cell_type": "code",
   "execution_count": 45,
   "id": "f46e79dc-6aae-4653-86a7-c35d0e5ff8ce",
   "metadata": {},
   "outputs": [],
   "source": [
    "from sklearn.feature_extraction import DictVectorizer"
   ]
  },
  {
   "cell_type": "code",
   "execution_count": 46,
   "id": "8eae94ad-a80c-44cd-b483-ef3faff13943",
   "metadata": {},
   "outputs": [],
   "source": [
    "train_dicts = df_train.to_dict(orient='records')"
   ]
  },
  {
   "cell_type": "code",
   "execution_count": 47,
   "id": "99af2ebc-09e6-479e-9e43-e0802d923149",
   "metadata": {},
   "outputs": [
    {
     "data": {
      "text/plain": [
       "{'id': 45701,\n",
       " 'gender': 'female',\n",
       " 'age': 72.0,\n",
       " 'hypertension': 0,\n",
       " 'heart_disease': 1,\n",
       " 'ever_married': 'no',\n",
       " 'work_type': 'self-employed',\n",
       " 'Residence_type': 'rural',\n",
       " 'avg_glucose_level': 124.38,\n",
       " 'bmi': 23.4,\n",
       " 'smoking_status': 'formerly_smoked'}"
      ]
     },
     "execution_count": 47,
     "metadata": {},
     "output_type": "execute_result"
    }
   ],
   "source": [
    "train_dicts[0]"
   ]
  },
  {
   "cell_type": "code",
   "execution_count": 48,
   "id": "d54dfdfe-c375-46df-af2c-9088af0e913f",
   "metadata": {},
   "outputs": [],
   "source": [
    "dv = DictVectorizer(sparse=False)"
   ]
  },
  {
   "cell_type": "code",
   "execution_count": 50,
   "id": "185d6ed1-dd10-4d8c-845c-01d903ffcde5",
   "metadata": {},
   "outputs": [],
   "source": [
    "X_train = dv.fit_transform(train_dicts)"
   ]
  },
  {
   "cell_type": "code",
   "execution_count": 51,
   "id": "14bf43b3-f48a-4175-8da6-883644c0f1b7",
   "metadata": {},
   "outputs": [],
   "source": [
    "val_dicts = df_val.to_dict(orient='records')"
   ]
  },
  {
   "cell_type": "code",
   "execution_count": 52,
   "id": "b1e8673a-264b-4fcf-a764-48c6ae856809",
   "metadata": {},
   "outputs": [],
   "source": [
    "X_val = dv.transform(val_dicts)"
   ]
  },
  {
   "cell_type": "markdown",
   "id": "f6f1f94a-d98d-4849-bde2-4e16f9a77aa1",
   "metadata": {},
   "source": [
    "# Logistic Regression"
   ]
  },
  {
   "cell_type": "code",
   "execution_count": 53,
   "id": "e29640b7-2a01-4861-846c-aa3988a73ea7",
   "metadata": {},
   "outputs": [],
   "source": [
    "from sklearn.linear_model import LogisticRegression"
   ]
  },
  {
   "cell_type": "code",
   "execution_count": 54,
   "id": "5cab37c9-898b-4931-8ae7-4d897726dfe7",
   "metadata": {},
   "outputs": [],
   "source": [
    "model = LogisticRegression(solver = 'liblinear', C = 10, max_iter=1000,random_state=42)"
   ]
  },
  {
   "cell_type": "code",
   "execution_count": 57,
   "id": "d59a8abf-5cbc-4513-ae9b-b06de883a2ef",
   "metadata": {},
   "outputs": [
    {
     "data": {
      "text/html": [
       "<style>#sk-container-id-1 {color: black;}#sk-container-id-1 pre{padding: 0;}#sk-container-id-1 div.sk-toggleable {background-color: white;}#sk-container-id-1 label.sk-toggleable__label {cursor: pointer;display: block;width: 100%;margin-bottom: 0;padding: 0.3em;box-sizing: border-box;text-align: center;}#sk-container-id-1 label.sk-toggleable__label-arrow:before {content: \"▸\";float: left;margin-right: 0.25em;color: #696969;}#sk-container-id-1 label.sk-toggleable__label-arrow:hover:before {color: black;}#sk-container-id-1 div.sk-estimator:hover label.sk-toggleable__label-arrow:before {color: black;}#sk-container-id-1 div.sk-toggleable__content {max-height: 0;max-width: 0;overflow: hidden;text-align: left;background-color: #f0f8ff;}#sk-container-id-1 div.sk-toggleable__content pre {margin: 0.2em;color: black;border-radius: 0.25em;background-color: #f0f8ff;}#sk-container-id-1 input.sk-toggleable__control:checked~div.sk-toggleable__content {max-height: 200px;max-width: 100%;overflow: auto;}#sk-container-id-1 input.sk-toggleable__control:checked~label.sk-toggleable__label-arrow:before {content: \"▾\";}#sk-container-id-1 div.sk-estimator input.sk-toggleable__control:checked~label.sk-toggleable__label {background-color: #d4ebff;}#sk-container-id-1 div.sk-label input.sk-toggleable__control:checked~label.sk-toggleable__label {background-color: #d4ebff;}#sk-container-id-1 input.sk-hidden--visually {border: 0;clip: rect(1px 1px 1px 1px);clip: rect(1px, 1px, 1px, 1px);height: 1px;margin: -1px;overflow: hidden;padding: 0;position: absolute;width: 1px;}#sk-container-id-1 div.sk-estimator {font-family: monospace;background-color: #f0f8ff;border: 1px dotted black;border-radius: 0.25em;box-sizing: border-box;margin-bottom: 0.5em;}#sk-container-id-1 div.sk-estimator:hover {background-color: #d4ebff;}#sk-container-id-1 div.sk-parallel-item::after {content: \"\";width: 100%;border-bottom: 1px solid gray;flex-grow: 1;}#sk-container-id-1 div.sk-label:hover label.sk-toggleable__label {background-color: #d4ebff;}#sk-container-id-1 div.sk-serial::before {content: \"\";position: absolute;border-left: 1px solid gray;box-sizing: border-box;top: 0;bottom: 0;left: 50%;z-index: 0;}#sk-container-id-1 div.sk-serial {display: flex;flex-direction: column;align-items: center;background-color: white;padding-right: 0.2em;padding-left: 0.2em;position: relative;}#sk-container-id-1 div.sk-item {position: relative;z-index: 1;}#sk-container-id-1 div.sk-parallel {display: flex;align-items: stretch;justify-content: center;background-color: white;position: relative;}#sk-container-id-1 div.sk-item::before, #sk-container-id-1 div.sk-parallel-item::before {content: \"\";position: absolute;border-left: 1px solid gray;box-sizing: border-box;top: 0;bottom: 0;left: 50%;z-index: -1;}#sk-container-id-1 div.sk-parallel-item {display: flex;flex-direction: column;z-index: 1;position: relative;background-color: white;}#sk-container-id-1 div.sk-parallel-item:first-child::after {align-self: flex-end;width: 50%;}#sk-container-id-1 div.sk-parallel-item:last-child::after {align-self: flex-start;width: 50%;}#sk-container-id-1 div.sk-parallel-item:only-child::after {width: 0;}#sk-container-id-1 div.sk-dashed-wrapped {border: 1px dashed gray;margin: 0 0.4em 0.5em 0.4em;box-sizing: border-box;padding-bottom: 0.4em;background-color: white;}#sk-container-id-1 div.sk-label label {font-family: monospace;font-weight: bold;display: inline-block;line-height: 1.2em;}#sk-container-id-1 div.sk-label-container {text-align: center;}#sk-container-id-1 div.sk-container {/* jupyter's `normalize.less` sets `[hidden] { display: none; }` but bootstrap.min.css set `[hidden] { display: none !important; }` so we also need the `!important` here to be able to override the default hidden behavior on the sphinx rendered scikit-learn.org. See: https://github.com/scikit-learn/scikit-learn/issues/21755 */display: inline-block !important;position: relative;}#sk-container-id-1 div.sk-text-repr-fallback {display: none;}</style><div id=\"sk-container-id-1\" class=\"sk-top-container\"><div class=\"sk-text-repr-fallback\"><pre>LogisticRegression(C=10, max_iter=1000, random_state=42, solver=&#x27;liblinear&#x27;)</pre><b>In a Jupyter environment, please rerun this cell to show the HTML representation or trust the notebook. <br />On GitHub, the HTML representation is unable to render, please try loading this page with nbviewer.org.</b></div><div class=\"sk-container\" hidden><div class=\"sk-item\"><div class=\"sk-estimator sk-toggleable\"><input class=\"sk-toggleable__control sk-hidden--visually\" id=\"sk-estimator-id-1\" type=\"checkbox\" checked><label for=\"sk-estimator-id-1\" class=\"sk-toggleable__label sk-toggleable__label-arrow\">LogisticRegression</label><div class=\"sk-toggleable__content\"><pre>LogisticRegression(C=10, max_iter=1000, random_state=42, solver=&#x27;liblinear&#x27;)</pre></div></div></div></div></div>"
      ],
      "text/plain": [
       "LogisticRegression(C=10, max_iter=1000, random_state=42, solver='liblinear')"
      ]
     },
     "execution_count": 57,
     "metadata": {},
     "output_type": "execute_result"
    }
   ],
   "source": [
    "model.fit(X_train, y_train)"
   ]
  },
  {
   "cell_type": "code",
   "execution_count": 58,
   "id": "72e1b54c-2389-427b-8c72-f5d0c16509b7",
   "metadata": {},
   "outputs": [
    {
     "data": {
      "text/plain": [
       "-0.06427458793190914"
      ]
     },
     "execution_count": 58,
     "metadata": {},
     "output_type": "execute_result"
    }
   ],
   "source": [
    "model.intercept_[0]"
   ]
  },
  {
   "cell_type": "code",
   "execution_count": 59,
   "id": "5bc40bd4-553e-4da1-b346-7668fcac21ff",
   "metadata": {},
   "outputs": [
    {
     "data": {
      "text/plain": [
       "array([-0.031, -0.033,  0.028, -0.009, -0.101, -0.048, -0.017, -0.045,\n",
       "       -0.02 ,  0.011,  0.021, -0.   ,  0.006, -0.016, -0.013, -0.042,\n",
       "       -0.026, -0.003, -0.001, -0.027, -0.007])"
      ]
     },
     "execution_count": 59,
     "metadata": {},
     "output_type": "execute_result"
    }
   ],
   "source": [
    "# this is the weight\n",
    "model.coef_[0].round(3)"
   ]
  },
  {
   "cell_type": "code",
   "execution_count": 60,
   "id": "733bfaac-c0fa-4a19-a5bc-da8c6aafee41",
   "metadata": {},
   "outputs": [
    {
     "data": {
      "text/plain": [
       "array([0, 0, 0, ..., 0, 0, 0], dtype=int64)"
      ]
     },
     "execution_count": 60,
     "metadata": {},
     "output_type": "execute_result"
    }
   ],
   "source": [
    "# Hard prediction predict 0 and 1\n",
    "model.predict(X_train)"
   ]
  },
  {
   "cell_type": "code",
   "execution_count": 61,
   "id": "71e3c7f7-6cf5-413b-9a2c-8729a14e7c45",
   "metadata": {},
   "outputs": [
    {
     "data": {
      "text/plain": [
       "array([[0.90512393, 0.09487607],\n",
       "       [0.94574171, 0.05425829],\n",
       "       [0.95263651, 0.04736349],\n",
       "       ...,\n",
       "       [0.97476365, 0.02523635],\n",
       "       [0.99594764, 0.00405236],\n",
       "       [0.97800171, 0.02199829]])"
      ]
     },
     "execution_count": 61,
     "metadata": {},
     "output_type": "execute_result"
    }
   ],
   "source": [
    "# soft prediction\n",
    "model.predict_proba(X_train)"
   ]
  },
  {
   "cell_type": "code",
   "execution_count": 62,
   "id": "a8f26a59-6b05-4eca-b025-830ba270adad",
   "metadata": {},
   "outputs": [],
   "source": [
    "# using it on validation dataset\n",
    "y_pred = model.predict_proba(X_val)[:,1]"
   ]
  },
  {
   "cell_type": "code",
   "execution_count": 63,
   "id": "2b924f3a-5cbc-405d-a4cf-2b7c56457bd5",
   "metadata": {},
   "outputs": [],
   "source": [
    "stroke_decision = (y_pred>= 0.5)"
   ]
  },
  {
   "cell_type": "code",
   "execution_count": 64,
   "id": "684538fd-dba9-46df-910b-390c1f8f3438",
   "metadata": {},
   "outputs": [],
   "source": [
    "accuracy = (y_val==stroke_decision).mean()"
   ]
  },
  {
   "cell_type": "code",
   "execution_count": 65,
   "id": "d0f7b0b8-ba6b-4875-975f-a48865dfca6d",
   "metadata": {},
   "outputs": [
    {
     "name": "stdout",
     "output_type": "stream",
     "text": [
      "0.95\n"
     ]
    }
   ],
   "source": [
    "print(round(accuracy, 2))"
   ]
  },
  {
   "cell_type": "code",
   "execution_count": 68,
   "id": "074b458c-8401-468f-af3a-7c33f0b5743e",
   "metadata": {},
   "outputs": [],
   "source": [
    "df_pred = pd.DataFrame()\n",
    "df_pred['probability']= y_pred\n",
    "df_pred['prediction'] = stroke_decision.astype(int)\n",
    "df_pred['actual'] = y_val\n",
    "df_pred['correct'] = df_pred.prediction==df_pred.actual"
   ]
  },
  {
   "cell_type": "code",
   "execution_count": 69,
   "id": "808f12bc-649c-4fb5-89dd-212c69f91472",
   "metadata": {},
   "outputs": [
    {
     "data": {
      "text/html": [
       "<div>\n",
       "<style scoped>\n",
       "    .dataframe tbody tr th:only-of-type {\n",
       "        vertical-align: middle;\n",
       "    }\n",
       "\n",
       "    .dataframe tbody tr th {\n",
       "        vertical-align: top;\n",
       "    }\n",
       "\n",
       "    .dataframe thead th {\n",
       "        text-align: right;\n",
       "    }\n",
       "</style>\n",
       "<table border=\"1\" class=\"dataframe\">\n",
       "  <thead>\n",
       "    <tr style=\"text-align: right;\">\n",
       "      <th></th>\n",
       "      <th>probability</th>\n",
       "      <th>prediction</th>\n",
       "      <th>actual</th>\n",
       "      <th>correct</th>\n",
       "    </tr>\n",
       "  </thead>\n",
       "  <tbody>\n",
       "    <tr>\n",
       "      <th>0</th>\n",
       "      <td>0.028292</td>\n",
       "      <td>0</td>\n",
       "      <td>0</td>\n",
       "      <td>True</td>\n",
       "    </tr>\n",
       "    <tr>\n",
       "      <th>1</th>\n",
       "      <td>0.349833</td>\n",
       "      <td>0</td>\n",
       "      <td>1</td>\n",
       "      <td>False</td>\n",
       "    </tr>\n",
       "    <tr>\n",
       "      <th>2</th>\n",
       "      <td>0.050223</td>\n",
       "      <td>0</td>\n",
       "      <td>0</td>\n",
       "      <td>True</td>\n",
       "    </tr>\n",
       "    <tr>\n",
       "      <th>3</th>\n",
       "      <td>0.047607</td>\n",
       "      <td>0</td>\n",
       "      <td>0</td>\n",
       "      <td>True</td>\n",
       "    </tr>\n",
       "    <tr>\n",
       "      <th>4</th>\n",
       "      <td>0.002406</td>\n",
       "      <td>0</td>\n",
       "      <td>0</td>\n",
       "      <td>True</td>\n",
       "    </tr>\n",
       "    <tr>\n",
       "      <th>...</th>\n",
       "      <td>...</td>\n",
       "      <td>...</td>\n",
       "      <td>...</td>\n",
       "      <td>...</td>\n",
       "    </tr>\n",
       "    <tr>\n",
       "      <th>1017</th>\n",
       "      <td>0.672287</td>\n",
       "      <td>1</td>\n",
       "      <td>0</td>\n",
       "      <td>False</td>\n",
       "    </tr>\n",
       "    <tr>\n",
       "      <th>1018</th>\n",
       "      <td>0.047132</td>\n",
       "      <td>0</td>\n",
       "      <td>0</td>\n",
       "      <td>True</td>\n",
       "    </tr>\n",
       "    <tr>\n",
       "      <th>1019</th>\n",
       "      <td>0.070792</td>\n",
       "      <td>0</td>\n",
       "      <td>0</td>\n",
       "      <td>True</td>\n",
       "    </tr>\n",
       "    <tr>\n",
       "      <th>1020</th>\n",
       "      <td>0.013647</td>\n",
       "      <td>0</td>\n",
       "      <td>0</td>\n",
       "      <td>True</td>\n",
       "    </tr>\n",
       "    <tr>\n",
       "      <th>1021</th>\n",
       "      <td>0.011021</td>\n",
       "      <td>0</td>\n",
       "      <td>0</td>\n",
       "      <td>True</td>\n",
       "    </tr>\n",
       "  </tbody>\n",
       "</table>\n",
       "<p>1022 rows × 4 columns</p>\n",
       "</div>"
      ],
      "text/plain": [
       "      probability  prediction  actual  correct\n",
       "0        0.028292           0       0     True\n",
       "1        0.349833           0       1    False\n",
       "2        0.050223           0       0     True\n",
       "3        0.047607           0       0     True\n",
       "4        0.002406           0       0     True\n",
       "...           ...         ...     ...      ...\n",
       "1017     0.672287           1       0    False\n",
       "1018     0.047132           0       0     True\n",
       "1019     0.070792           0       0     True\n",
       "1020     0.013647           0       0     True\n",
       "1021     0.011021           0       0     True\n",
       "\n",
       "[1022 rows x 4 columns]"
      ]
     },
     "execution_count": 69,
     "metadata": {},
     "output_type": "execute_result"
    }
   ],
   "source": [
    "df_pred"
   ]
  },
  {
   "cell_type": "code",
   "execution_count": 70,
   "id": "1376aaec-43a0-4b61-ab96-03b0b458a8b0",
   "metadata": {},
   "outputs": [
    {
     "data": {
      "text/plain": [
       "1022"
      ]
     },
     "execution_count": 70,
     "metadata": {},
     "output_type": "execute_result"
    }
   ],
   "source": [
    "len(X_val)"
   ]
  },
  {
   "cell_type": "code",
   "execution_count": 71,
   "id": "b30a06af-51cd-49d0-af1b-d73079c6814d",
   "metadata": {},
   "outputs": [
    {
     "data": {
      "text/plain": [
       "970"
      ]
     },
     "execution_count": 71,
     "metadata": {},
     "output_type": "execute_result"
    }
   ],
   "source": [
    "(y_val == stroke_decision).sum()"
   ]
  },
  {
   "cell_type": "code",
   "execution_count": 72,
   "id": "ad3d48d4-2535-4c83-994d-89e468691fcd",
   "metadata": {},
   "outputs": [
    {
     "data": {
      "text/plain": [
       "0.949119373776908"
      ]
     },
     "execution_count": 72,
     "metadata": {},
     "output_type": "execute_result"
    }
   ],
   "source": [
    "970/1022"
   ]
  },
  {
   "cell_type": "code",
   "execution_count": 74,
   "id": "4bc47e52-37ac-4336-872e-271190a157f0",
   "metadata": {},
   "outputs": [
    {
     "name": "stdout",
     "output_type": "stream",
     "text": [
      "0.000.040\n",
      "0.050.638\n",
      "0.100.861\n",
      "0.150.906\n",
      "0.200.924\n",
      "0.250.937\n",
      "0.300.940\n",
      "0.350.941\n",
      "0.400.946\n",
      "0.450.947\n",
      "0.500.949\n",
      "0.550.953\n",
      "0.600.952\n",
      "0.650.957\n",
      "0.700.959\n",
      "0.750.960\n",
      "0.800.960\n",
      "0.850.960\n",
      "0.900.960\n",
      "0.950.960\n",
      "1.000.960\n"
     ]
    }
   ],
   "source": [
    "thresholds=np.linspace(0, 1,21)\n",
    "scores= []\n",
    "for t in thresholds:\n",
    "    stroke_decision = (y_pred >=t)\n",
    "    score = (y_val == stroke_decision).mean()\n",
    "    print('%.2f%.3f'%(t, score))\n",
    "    scores.append(score)"
   ]
  },
  {
   "cell_type": "code",
   "execution_count": 75,
   "id": "e01561da-4208-4941-b86b-e99ae6f760b2",
   "metadata": {},
   "outputs": [
    {
     "data": {
      "text/plain": [
       "[<matplotlib.lines.Line2D at 0x1ae7811a780>]"
      ]
     },
     "execution_count": 75,
     "metadata": {},
     "output_type": "execute_result"
    },
    {
     "data": {
      "image/png": "[encoded data removed]",
      "text/plain": [
       "<Figure size 640x480 with 1 Axes>"
      ]
     },
     "metadata": {},
     "output_type": "display_data"
    }
   ],
   "source": [
    "plt.plot(thresholds,scores)"
   ]
  },
  {
   "cell_type": "code",
   "execution_count": 76,
   "id": "4ed7f91b-6ff0-4038-8479-c4b399cf17c6",
   "metadata": {},
   "outputs": [],
   "source": [
    "from sklearn .metrics import accuracy_score"
   ]
  },
  {
   "cell_type": "code",
   "execution_count": 77,
   "id": "49bd4b1a-6793-4890-9a7b-bfc1954c283f",
   "metadata": {},
   "outputs": [
    {
     "data": {
      "text/plain": [
       "0.949119373776908"
      ]
     },
     "execution_count": 77,
     "metadata": {},
     "output_type": "execute_result"
    }
   ],
   "source": [
    "accuracy_score(y_val, y_pred >=0.5)"
   ]
  },
  {
   "cell_type": "code",
   "execution_count": 83,
   "id": "37f3ae47-b708-4b73-a255-09caffdc8680",
   "metadata": {},
   "outputs": [],
   "source": [
    "test_dicts = df_test.to_dict(orient='records')"
   ]
  },
  {
   "cell_type": "code",
   "execution_count": 84,
   "id": "916d3a2e-a8ed-4754-aa9c-c6ea93d3030d",
   "metadata": {},
   "outputs": [],
   "source": [
    "X_test = dv.transform(test_dicts)"
   ]
  },
  {
   "cell_type": "code",
   "execution_count": 78,
   "id": "758dcb71-6491-4f0a-90dd-b4ec6677c620",
   "metadata": {},
   "outputs": [],
   "source": [
    "from sklearn.linear_model import Ridge\n",
    "from sklearn.metrics import mean_squared_error\n",
    "from math import sqrt"
   ]
  },
  {
   "cell_type": "code",
   "execution_count": 80,
   "id": "6c8e28b1-1289-4fef-bb2c-1ae105336ae3",
   "metadata": {},
   "outputs": [],
   "source": [
    "alpha_values = [0, 0.01, 0.1, 1, 10]"
   ]
  },
  {
   "cell_type": "code",
   "execution_count": 81,
   "id": "92c5cf7e-4942-435e-a801-6264bb0d4300",
   "metadata": {},
   "outputs": [],
   "source": [
    "rmse_score = {}"
   ]
  },
  {
   "cell_type": "code",
   "execution_count": 82,
   "id": "2c3a7118-0244-4aed-b5f5-b891c70032d0",
   "metadata": {},
   "outputs": [
    {
     "name": "stderr",
     "output_type": "stream",
     "text": [
      "C:\\Users\\USER\\AppData\\Local\\Programs\\Python\\Python312\\Lib\\site-packages\\sklearn\\linear_model\\_sag.py:350: ConvergenceWarning: The max_iter was reached which means the coef_ did not converge\n",
      "  warnings.warn(\n",
      "C:\\Users\\USER\\AppData\\Local\\Programs\\Python\\Python312\\Lib\\site-packages\\sklearn\\linear_model\\_sag.py:350: ConvergenceWarning: The max_iter was reached which means the coef_ did not converge\n",
      "  warnings.warn(\n",
      "C:\\Users\\USER\\AppData\\Local\\Programs\\Python\\Python312\\Lib\\site-packages\\sklearn\\linear_model\\_sag.py:350: ConvergenceWarning: The max_iter was reached which means the coef_ did not converge\n",
      "  warnings.warn(\n",
      "C:\\Users\\USER\\AppData\\Local\\Programs\\Python\\Python312\\Lib\\site-packages\\sklearn\\linear_model\\_sag.py:350: ConvergenceWarning: The max_iter was reached which means the coef_ did not converge\n",
      "  warnings.warn(\n",
      "C:\\Users\\USER\\AppData\\Local\\Programs\\Python\\Python312\\Lib\\site-packages\\sklearn\\linear_model\\_sag.py:350: ConvergenceWarning: The max_iter was reached which means the coef_ did not converge\n",
      "  warnings.warn(\n"
     ]
    }
   ],
   "source": [
    "for alpha in alpha_values:\n",
    "    model=Ridge(alpha= alpha, solver = 'sag', random_state=42)\n",
    "    model.fit(X_train, y_train)"
   ]
  },
  {
   "cell_type": "code",
   "execution_count": 86,
   "id": "deb925dc-05ce-4809-acb0-0853b2d1b704",
   "metadata": {},
   "outputs": [],
   "source": [
    "y_pred=model.predict(X_val)"
   ]
  },
  {
   "cell_type": "code",
   "execution_count": 87,
   "id": "fddd30ca-b42f-46b4-bbbe-c53341f7ee4f",
   "metadata": {},
   "outputs": [],
   "source": [
    "rmse = round(sqrt(mean_squared_error(y_val, y_pred)), 3)\n",
    "rmse_score[alpha] = rmse"
   ]
  },
  {
   "cell_type": "code",
   "execution_count": 89,
   "id": "7c1d3d8f-788a-416a-bd5a-367ad54c2bfa",
   "metadata": {},
   "outputs": [
    {
     "name": "stdout",
     "output_type": "stream",
     "text": [
      "Alpha=10: RMSE =0.192\n"
     ]
    }
   ],
   "source": [
    "for alpha, rmse in rmse_score.items():\n",
    "    print(f'Alpha={alpha}: RMSE ={rmse}')"
   ]
  },
  {
   "cell_type": "code",
   "execution_count": 93,
   "id": "ab2ac8b1-57bc-44e7-ac58-fc719128e708",
   "metadata": {},
   "outputs": [
    {
     "name": "stdout",
     "output_type": "stream",
     "text": [
      "Mean AUC: 0.6450118066350581\n"
     ]
    }
   ],
   "source": [
    "from sklearn.model_selection import KFold\n",
    "from sklearn.linear_model import LogisticRegression\n",
    "from sklearn.metrics import roc_auc_score\n",
    "from sklearn.feature_extraction import DictVectorizer\n",
    "\n",
    "# Assuming df_full_train is your training dataset with features and target\n",
    "\n",
    "# Define the KFold object with 5 splits, shuffling the data, and setting a random seed\n",
    "kf = KFold(n_splits=5, shuffle=True, random_state=1)\n",
    "\n",
    "# Initialize a list to store AUC scores for each fold\n",
    "auc_scores = []\n",
    "\n",
    "# Initialize DictVectorizer\n",
    "vectorizer = DictVectorizer()\n",
    "\n",
    "# Iterate over different folds of df_full_train\n",
    "for train_index, val_index in kf.split(df_full_train):\n",
    "    # Split the data into train and validation sets based on the fold indices\n",
    "    train_data, val_data = df_full_train.iloc[train_index], df_full_train.iloc[val_index]\n",
    "    \n",
    "    # Separate the features (X) and the target (y) variables for train and validation\n",
    "    X_train, y_train = train_data.drop(columns=['stroke']), train_data['stroke']\n",
    "    X_val, y_val = val_data.drop(columns=['stroke']), val_data['stroke']\n",
    "    \n",
    "    # Convert feature dataframes to dictionaries and then use DictVectorizer\n",
    "    X_train_dict = X_train.to_dict(orient='records')\n",
    "    X_val_dict = X_val.to_dict(orient='records')\n",
    "    \n",
    "    X_train_encoded = vectorizer.fit_transform(X_train_dict)\n",
    "    X_val_encoded = vectorizer.transform(X_val_dict)\n",
    "    \n",
    "    # Initialize and train the Logistic Regression model\n",
    "    model = LogisticRegression(solver='liblinear', C=1.0, max_iter=1000)\n",
    "    model.fit(X_train_encoded, y_train)\n",
    "    \n",
    "    # Predict probabilities on the validation set\n",
    "    y_pred_proba = model.predict_proba(X_val_encoded)[:, 1]\n",
    "    \n",
    "    # Calculate the AUC score and append it to the list\n",
    "    auc_score = roc_auc_score(y_val, y_pred_proba)\n",
    "    auc_scores.append(auc_score)\n",
    "\n",
    "# Calculate and print the mean AUC score across all folds\n",
    "mean_auc = sum(auc_scores) / len(auc_scores)\n",
    "print(\"Mean AUC:\", mean_auc)"
   ]
  },
  {
   "cell_type": "code",
   "execution_count": 94,
   "id": "b3c946f6-5860-4a55-81ed-3e7944885d50",
   "metadata": {},
   "outputs": [
    {
     "name": "stdout",
     "output_type": "stream",
     "text": [
      "C = 0.01: Mean AUC = 0.625, Std = 0.039\n",
      "C = 0.1: Mean AUC = 0.641, Std = 0.068\n",
      "C = 0.5: Mean AUC = 0.646, Std = 0.078\n",
      "C = 10: Mean AUC = 0.63, Std = 0.054\n"
     ]
    }
   ],
   "source": [
    "# Define the C values to iterate over\n",
    "C_values = [0.01, 0.1, 0.5, 10]\n",
    "\n",
    "# Initialize KFold with the same parameters as previously\n",
    "kf = KFold(n_splits=5, shuffle=True, random_state=1)\n",
    "\n",
    "# Initialize lists to store mean and std scores\n",
    "mean_scores = []\n",
    "std_scores = []\n",
    "\n",
    "# Iterate over different C values\n",
    "for C in C_values:\n",
    "    # Initialize a list to store AUC scores for each fold\n",
    "    auc_scores = []\n",
    "    \n",
    "    # Iterate over different folds of df_full_train\n",
    "    for train_index, val_index in kf.split(df_full_train):\n",
    "        # Split the data into train and validation sets based on the fold indices\n",
    "        train_data, val_data = df_full_train.iloc[train_index], df_full_train.iloc[val_index]\n",
    "\n",
    "        # Separate the features (X) and the target (y) variables for train and validation\n",
    "        X_train, y_train = train_data.drop(columns=['stroke']), train_data['stroke']\n",
    "        X_val, y_val = val_data.drop(columns=['stroke']), val_data['stroke']\n",
    "\n",
    "        # Convert feature dataframes to dictionaries and then use DictVectorizer\n",
    "        X_train_dict = X_train.to_dict(orient='records')\n",
    "        X_val_dict = X_val.to_dict(orient='records')\n",
    "\n",
    "        X_train_encoded = vectorizer.fit_transform(X_train_dict)\n",
    "        X_val_encoded = vectorizer.transform(X_val_dict)\n",
    "\n",
    "        # Initialize and train the Logistic Regression model with the current C value\n",
    "        model = LogisticRegression(solver='liblinear', C=C, max_iter=1000)\n",
    "        model.fit(X_train_encoded, y_train)\n",
    "\n",
    "        # Predict probabilities on the validation set\n",
    "        y_pred_proba = model.predict_proba(X_val_encoded)[:, 1]\n",
    "\n",
    "        # Calculate the AUC score and append it to the list\n",
    "        auc_score = roc_auc_score(y_val, y_pred_proba)\n",
    "        auc_scores.append(auc_score)\n",
    "    \n",
    "    # Calculate the mean and standard deviation of AUC scores for the current C value\n",
    "    mean_auc = np.mean(auc_scores)\n",
    "    std_auc = np.std(auc_scores)\n",
    "    \n",
    "    # Append the mean and std scores to the respective lists (rounded to 3 decimal digits)\n",
    "    mean_scores.append(round(mean_auc, 3))\n",
    "    std_scores.append(round(std_auc, 3))\n",
    "\n",
    "# Print the results for each C value\n",
    "for i, C in enumerate(C_values):\n",
    "    print(f\"C = {C}: Mean AUC = {mean_scores[i]}, Std = {std_scores[i]}\")"
   ]
  },
  {
   "cell_type": "code",
   "execution_count": 100,
   "id": "a4fe0c4c-41ab-42ed-bd8e-0237390bae24",
   "metadata": {},
   "outputs": [],
   "source": [
    "import pickle"
   ]
  },
  {
   "cell_type": "code",
   "execution_count": 95,
   "id": "82c27dc8-6079-4303-a2b3-59d58343f712",
   "metadata": {},
   "outputs": [
    {
     "data": {
      "text/plain": [
       "'model_C=10.bin'"
      ]
     },
     "execution_count": 95,
     "metadata": {},
     "output_type": "execute_result"
    }
   ],
   "source": [
    "output_file = f'model_C={C}.bin'\n",
    "output_file"
   ]
  },
  {
   "cell_type": "code",
   "execution_count": 96,
   "id": "cbba1929-7684-46da-9230-5d6b34315648",
   "metadata": {},
   "outputs": [],
   "source": [
    "f_out = open(output_file, 'wb')\n",
    "pickle.dump((dv, model), f_out)\n",
    "f_out.close()"
   ]
  },
  {
   "cell_type": "code",
   "execution_count": 101,
   "id": "907b6f68-5675-4899-87ba-2c1820e54b73",
   "metadata": {},
   "outputs": [],
   "source": [
    "customer={'id': 45701,\n",
    " 'gender': 'female',\n",
    " 'age': 72.0,\n",
    " 'hypertension': 0,\n",
    " 'heart_disease': 1,\n",
    " 'ever_married': 'no',\n",
    " 'work_type': 'self-employed',\n",
    " 'Residence_type': 'rural',\n",
    " 'avg_glucose_level': 124.38,\n",
    " 'bmi': 23.4,\n",
    " 'smoking_status': 'formerly_smoked'}"
   ]
  },
  {
   "cell_type": "code",
   "execution_count": 102,
   "id": "ae1955cf-3b37-4e6a-be12-d46fe2568211",
   "metadata": {},
   "outputs": [],
   "source": [
    "model_file = 'model_C=10.bin'"
   ]
  },
  {
   "cell_type": "code",
   "execution_count": 103,
   "id": "a5415165-8f74-43ab-b342-3ea9cf5ea007",
   "metadata": {},
   "outputs": [],
   "source": [
    "with open(model_file, 'rb') as f_in:\n",
    "    dv, model = pickle.load(f_in)"
   ]
  },
  {
   "cell_type": "code",
   "execution_count": 104,
   "id": "507e4eea-6aa7-4426-abc9-893a2df2197e",
   "metadata": {},
   "outputs": [
    {
     "data": {
      "text/plain": [
       "(DictVectorizer(sparse=False),\n",
       " LogisticRegression(C=10, max_iter=1000, solver='liblinear'))"
      ]
     },
     "execution_count": 104,
     "metadata": {},
     "output_type": "execute_result"
    }
   ],
   "source": [
    "dv, model\n",
    "\n"
   ]
  },
  {
   "cell_type": "code",
   "execution_count": 105,
   "id": "abec7fbd-fe21-425c-80a4-e0bc3e8a2a43",
   "metadata": {},
   "outputs": [],
   "source": [
    " X =dv.transform([customer])"
   ]
  },
  {
   "cell_type": "code",
   "execution_count": 106,
   "id": "152ab9a7-7abc-49c3-91ea-0922da1e97e4",
   "metadata": {},
   "outputs": [
    {
     "data": {
      "text/plain": [
       "0.07810133532409126"
      ]
     },
     "execution_count": 106,
     "metadata": {},
     "output_type": "execute_result"
    }
   ],
   "source": [
    " model.predict_proba(X)[0,1]"
   ]
  },
  {
   "cell_type": "code",
   "execution_count": null,
   "id": "6f530ef4-1d89-4d33-88a0-cfe4fc0a7517",
   "metadata": {},
   "outputs": [],
   "source": []
  }
 ],
 "metadata": {
  "kernelspec": {
   "display_name": "Python 3 (ipykernel)",
   "language": "python",
   "name": "python3"
  },
  "language_info": {
   "codemirror_mode": {
    "name": "ipython",
    "version": 3
   },
   "file_extension": ".py",
   "mimetype": "text/x-python",
   "name": "python",
   "nbconvert_exporter": "python",
   "pygments_lexer": "ipython3",
   "version": "3.12.1"
  }
 },
 "nbformat": 4,
 "nbformat_minor": 5
}
